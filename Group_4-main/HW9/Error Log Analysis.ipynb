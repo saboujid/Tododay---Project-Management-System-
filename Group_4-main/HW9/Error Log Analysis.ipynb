{
 "cells": [
  {
   "cell_type": "markdown",
   "id": "7e3cb5ea",
   "metadata": {},
   "source": [
    "# Apache Error Log Analysis using Python"
   ]
  },
  {
   "cell_type": "code",
   "execution_count": 1,
   "id": "7d44491f",
   "metadata": {},
   "outputs": [],
   "source": [
    "import pandas as pd\n",
    "import matplotlib.pyplot as plt"
   ]
  },
  {
   "cell_type": "code",
   "execution_count": 2,
   "id": "62672b1c",
   "metadata": {},
   "outputs": [],
   "source": [
    "# to enable us to see the whole table\n",
    "pd.set_option(\"display.max_rows\", None, \"display.max_columns\", None)"
   ]
  },
  {
   "cell_type": "markdown",
   "id": "a04f8224",
   "metadata": {},
   "source": [
    "The csv file was obtained using a software called http logs viewer"
   ]
  },
  {
   "cell_type": "code",
   "execution_count": 3,
   "id": "41010a75",
   "metadata": {},
   "outputs": [
    {
     "data": {
      "text/plain": [
       "(18, 10)"
      ]
     },
     "execution_count": 3,
     "metadata": {},
     "output_type": "execute_result"
    }
   ],
   "source": [
    "# filtering the log to only get our entries\n",
    "df = pd.read_csv(\"error_log.csv\")\n",
    "df = df[df['Request'].str.contains(\"ibenyamna\")]\n",
    "df.shape"
   ]
  },
  {
   "cell_type": "code",
   "execution_count": 4,
   "id": "0d92c74d",
   "metadata": {},
   "outputs": [
    {
     "data": {
      "text/html": [
       "<div>\n",
       "<style scoped>\n",
       "    .dataframe tbody tr th:only-of-type {\n",
       "        vertical-align: middle;\n",
       "    }\n",
       "\n",
       "    .dataframe tbody tr th {\n",
       "        vertical-align: top;\n",
       "    }\n",
       "\n",
       "    .dataframe thead th {\n",
       "        text-align: right;\n",
       "    }\n",
       "</style>\n",
       "<table border=\"1\" class=\"dataframe\">\n",
       "  <thead>\n",
       "    <tr style=\"text-align: right;\">\n",
       "      <th></th>\n",
       "      <th>IP Address</th>\n",
       "      <th>Logname</th>\n",
       "      <th>User</th>\n",
       "      <th>Date</th>\n",
       "      <th>Request</th>\n",
       "      <th>Code</th>\n",
       "      <th>Size</th>\n",
       "      <th>Country</th>\n",
       "      <th>Referer</th>\n",
       "      <th>UserAgent</th>\n",
       "    </tr>\n",
       "  </thead>\n",
       "  <tbody>\n",
       "    <tr>\n",
       "      <th>1062</th>\n",
       "      <td>10.82.216.129</td>\n",
       "      <td>-</td>\n",
       "      <td>-</td>\n",
       "      <td>[17/Nov/2021:14:29:36 +0000]</td>\n",
       "      <td>PHP Notice:  Undefined index: message in /peop...</td>\n",
       "      <td>6</td>\n",
       "      <td>0</td>\n",
       "      <td>NaN</td>\n",
       "      <td>client 10.82.216.129</td>\n",
       "      <td>notice</td>\n",
       "    </tr>\n",
       "    <tr>\n",
       "      <th>1063</th>\n",
       "      <td>10.82.216.129</td>\n",
       "      <td>-</td>\n",
       "      <td>-</td>\n",
       "      <td>[17/Nov/2021:14:29:36 +0000]</td>\n",
       "      <td>PHP Notice:  Undefined index: invalid in /peop...</td>\n",
       "      <td>6</td>\n",
       "      <td>0</td>\n",
       "      <td>NaN</td>\n",
       "      <td>client 10.82.216.129</td>\n",
       "      <td>notice</td>\n",
       "    </tr>\n",
       "    <tr>\n",
       "      <th>1064</th>\n",
       "      <td>10.82.216.129</td>\n",
       "      <td>-</td>\n",
       "      <td>-</td>\n",
       "      <td>[17/Nov/2021:14:29:56 +0000]</td>\n",
       "      <td>PHP Notice:  Undefined index: message in /peop...</td>\n",
       "      <td>6</td>\n",
       "      <td>0</td>\n",
       "      <td>NaN</td>\n",
       "      <td>client 10.82.216.129</td>\n",
       "      <td>notice</td>\n",
       "    </tr>\n",
       "    <tr>\n",
       "      <th>1065</th>\n",
       "      <td>10.82.216.129</td>\n",
       "      <td>-</td>\n",
       "      <td>-</td>\n",
       "      <td>[17/Nov/2021:14:29:56 +0000]</td>\n",
       "      <td>PHP Notice:  Undefined index: invalid in /peop...</td>\n",
       "      <td>6</td>\n",
       "      <td>0</td>\n",
       "      <td>NaN</td>\n",
       "      <td>client 10.82.216.129</td>\n",
       "      <td>notice</td>\n",
       "    </tr>\n",
       "    <tr>\n",
       "      <th>1159</th>\n",
       "      <td>10.82.60.57</td>\n",
       "      <td>-</td>\n",
       "      <td>-</td>\n",
       "      <td>[17/Nov/2021:15:55:48 +0000]</td>\n",
       "      <td>PHP Notice:  Undefined index: message in /peop...</td>\n",
       "      <td>6</td>\n",
       "      <td>0</td>\n",
       "      <td>NaN</td>\n",
       "      <td>client 10.82.60.57</td>\n",
       "      <td>notice</td>\n",
       "    </tr>\n",
       "  </tbody>\n",
       "</table>\n",
       "</div>"
      ],
      "text/plain": [
       "         IP Address Logname User                          Date  \\\n",
       "1062  10.82.216.129       -    -  [17/Nov/2021:14:29:36 +0000]   \n",
       "1063  10.82.216.129       -    -  [17/Nov/2021:14:29:36 +0000]   \n",
       "1064  10.82.216.129       -    -  [17/Nov/2021:14:29:56 +0000]   \n",
       "1065  10.82.216.129       -    -  [17/Nov/2021:14:29:56 +0000]   \n",
       "1159    10.82.60.57       -    -  [17/Nov/2021:15:55:48 +0000]   \n",
       "\n",
       "                                                Request  Code  Size  Country  \\\n",
       "1062  PHP Notice:  Undefined index: message in /peop...     6     0      NaN   \n",
       "1063  PHP Notice:  Undefined index: invalid in /peop...     6     0      NaN   \n",
       "1064  PHP Notice:  Undefined index: message in /peop...     6     0      NaN   \n",
       "1065  PHP Notice:  Undefined index: invalid in /peop...     6     0      NaN   \n",
       "1159  PHP Notice:  Undefined index: message in /peop...     6     0      NaN   \n",
       "\n",
       "                   Referer UserAgent  \n",
       "1062  client 10.82.216.129    notice  \n",
       "1063  client 10.82.216.129    notice  \n",
       "1064  client 10.82.216.129    notice  \n",
       "1065  client 10.82.216.129    notice  \n",
       "1159    client 10.82.60.57    notice  "
      ]
     },
     "execution_count": 4,
     "metadata": {},
     "output_type": "execute_result"
    }
   ],
   "source": [
    "df.head()"
   ]
  },
  {
   "cell_type": "code",
   "execution_count": 5,
   "id": "b6082bca",
   "metadata": {},
   "outputs": [],
   "source": [
    "df.drop(['Logname','User','Country','Referer'], axis=1, inplace=True)"
   ]
  },
  {
   "cell_type": "code",
   "execution_count": 6,
   "id": "4d89a9c2",
   "metadata": {},
   "outputs": [
    {
     "data": {
      "text/html": [
       "<div>\n",
       "<style scoped>\n",
       "    .dataframe tbody tr th:only-of-type {\n",
       "        vertical-align: middle;\n",
       "    }\n",
       "\n",
       "    .dataframe tbody tr th {\n",
       "        vertical-align: top;\n",
       "    }\n",
       "\n",
       "    .dataframe thead th {\n",
       "        text-align: right;\n",
       "    }\n",
       "</style>\n",
       "<table border=\"1\" class=\"dataframe\">\n",
       "  <thead>\n",
       "    <tr style=\"text-align: right;\">\n",
       "      <th></th>\n",
       "      <th>IP Address</th>\n",
       "      <th>Request</th>\n",
       "      <th>Code</th>\n",
       "      <th>Size</th>\n",
       "      <th>UserAgent</th>\n",
       "    </tr>\n",
       "    <tr>\n",
       "      <th>Date</th>\n",
       "      <th></th>\n",
       "      <th></th>\n",
       "      <th></th>\n",
       "      <th></th>\n",
       "      <th></th>\n",
       "    </tr>\n",
       "  </thead>\n",
       "  <tbody>\n",
       "    <tr>\n",
       "      <th>2021-11-17 14:29:36+00:00</th>\n",
       "      <td>10.82.216.129</td>\n",
       "      <td>PHP Notice:  Undefined index: message in /peop...</td>\n",
       "      <td>6</td>\n",
       "      <td>0</td>\n",
       "      <td>notice</td>\n",
       "    </tr>\n",
       "    <tr>\n",
       "      <th>2021-11-17 14:29:36+00:00</th>\n",
       "      <td>10.82.216.129</td>\n",
       "      <td>PHP Notice:  Undefined index: invalid in /peop...</td>\n",
       "      <td>6</td>\n",
       "      <td>0</td>\n",
       "      <td>notice</td>\n",
       "    </tr>\n",
       "    <tr>\n",
       "      <th>2021-11-17 14:29:56+00:00</th>\n",
       "      <td>10.82.216.129</td>\n",
       "      <td>PHP Notice:  Undefined index: message in /peop...</td>\n",
       "      <td>6</td>\n",
       "      <td>0</td>\n",
       "      <td>notice</td>\n",
       "    </tr>\n",
       "    <tr>\n",
       "      <th>2021-11-17 14:29:56+00:00</th>\n",
       "      <td>10.82.216.129</td>\n",
       "      <td>PHP Notice:  Undefined index: invalid in /peop...</td>\n",
       "      <td>6</td>\n",
       "      <td>0</td>\n",
       "      <td>notice</td>\n",
       "    </tr>\n",
       "    <tr>\n",
       "      <th>2021-11-17 15:55:48+00:00</th>\n",
       "      <td>10.82.60.57</td>\n",
       "      <td>PHP Notice:  Undefined index: message in /peop...</td>\n",
       "      <td>6</td>\n",
       "      <td>0</td>\n",
       "      <td>notice</td>\n",
       "    </tr>\n",
       "  </tbody>\n",
       "</table>\n",
       "</div>"
      ],
      "text/plain": [
       "                              IP Address  \\\n",
       "Date                                       \n",
       "2021-11-17 14:29:36+00:00  10.82.216.129   \n",
       "2021-11-17 14:29:36+00:00  10.82.216.129   \n",
       "2021-11-17 14:29:56+00:00  10.82.216.129   \n",
       "2021-11-17 14:29:56+00:00  10.82.216.129   \n",
       "2021-11-17 15:55:48+00:00    10.82.60.57   \n",
       "\n",
       "                                                                     Request  \\\n",
       "Date                                                                           \n",
       "2021-11-17 14:29:36+00:00  PHP Notice:  Undefined index: message in /peop...   \n",
       "2021-11-17 14:29:36+00:00  PHP Notice:  Undefined index: invalid in /peop...   \n",
       "2021-11-17 14:29:56+00:00  PHP Notice:  Undefined index: message in /peop...   \n",
       "2021-11-17 14:29:56+00:00  PHP Notice:  Undefined index: invalid in /peop...   \n",
       "2021-11-17 15:55:48+00:00  PHP Notice:  Undefined index: message in /peop...   \n",
       "\n",
       "                           Code  Size UserAgent  \n",
       "Date                                             \n",
       "2021-11-17 14:29:36+00:00     6     0    notice  \n",
       "2021-11-17 14:29:36+00:00     6     0    notice  \n",
       "2021-11-17 14:29:56+00:00     6     0    notice  \n",
       "2021-11-17 14:29:56+00:00     6     0    notice  \n",
       "2021-11-17 15:55:48+00:00     6     0    notice  "
      ]
     },
     "execution_count": 6,
     "metadata": {},
     "output_type": "execute_result"
    }
   ],
   "source": [
    "# cleaning the date format to make it easier to parse\n",
    "df['Date'] = df['Date'].apply(lambda x: x.strip(\"[]\"))\n",
    "df['Date'] = df['Date'].apply(lambda x: x.replace(\":\",\" \",1))\n",
    "# making the date the index of the dataframe to make time sampling easier to perform\n",
    "df.index = pd.to_datetime(df.pop('Date'))\n",
    "\n",
    "df.head()"
   ]
  },
  {
   "cell_type": "code",
   "execution_count": 7,
   "id": "3cdf0ff1",
   "metadata": {},
   "outputs": [
    {
     "data": {
      "image/png": "[encoded data removed]",
      "text/plain": [
       "<Figure size 720x576 with 1 Axes>"
      ]
     },
     "metadata": {
      "needs_background": "light"
     },
     "output_type": "display_data"
    }
   ],
   "source": [
    "plt.figure(figsize=(10, 8))\n",
    "df['UserAgent'].value_counts().plot(kind='bar')\n",
    "plt.title('Number of Occurences of each Error type')\n",
    "plt.xlabel(\"Error Type\")\n",
    "plt.ylabel(\"Number of Occurences\")\n",
    "plt.yticks(range(0,max(df['UserAgent'].value_counts().tolist())+1))\n",
    "plt.show()"
   ]
  },
  {
   "cell_type": "code",
   "execution_count": 15,
   "id": "1eeb61ed",
   "metadata": {},
   "outputs": [
    {
     "data": {
      "image/png": "[encoded data removed]",
      "text/plain": [
       "<Figure size 1152x576 with 1 Axes>"
      ]
     },
     "metadata": {
      "needs_background": "light"
     },
     "output_type": "display_data"
    }
   ],
   "source": [
    "plt.figure(figsize=(16, 8))\n",
    "plt.title('Number of errors over 1 hour intervals during the whole log')\n",
    "df_s = df['UserAgent'].resample('1h').count()\n",
    "plt.ylabel('# of Errors')\n",
    "df_s.plot()\n",
    "plt.show()"
   ]
  },
  {
   "cell_type": "code",
   "execution_count": 17,
   "id": "7dfceaf9",
   "metadata": {},
   "outputs": [
    {
     "data": {
      "image/png": "[encoded data removed]",
      "text/plain": [
       "<Figure size 864x576 with 1 Axes>"
      ]
     },
     "metadata": {
      "needs_background": "light"
     },
     "output_type": "display_data"
    }
   ],
   "source": [
    "plt.figure(figsize=(12, 8))\n",
    "plt.title('Number of errors of each unique IP Address')\n",
    "plt.ylabel('IP Address')\n",
    "plt.xlabel('# of errors')\n",
    "df['IP Address'].value_counts().plot.barh()\n",
    "plt.show()"
   ]
  }
 ],
 "metadata": {
  "kernelspec": {
   "display_name": "Python 3",
   "language": "python",
   "name": "python3"
  },
  "language_info": {
   "codemirror_mode": {
    "name": "ipython",
    "version": 3
   },
   "file_extension": ".py",
   "mimetype": "text/x-python",
   "name": "python",
   "nbconvert_exporter": "python",
   "pygments_lexer": "ipython3",
   "version": "3.9.2"
  }
 },
 "nbformat": 4,
 "nbformat_minor": 5
}
